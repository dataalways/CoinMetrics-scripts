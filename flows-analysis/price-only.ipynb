{
 "cells": [
  {
   "cell_type": "code",
   "execution_count": 1,
   "id": "59cbb227",
   "metadata": {},
   "outputs": [
    {
     "data": {
      "text/plain": [
       "'\\nThis is an instructional Jupyter notebook that demonstrates \\nhow to download bitcoin price data from the CoinMetrics API. \\n\\nAuthor: T. From Coding Always & Data Always. \\nTwitter: @Data_Always\\n\\nLast Modified: March 24, 2022\\n'"
      ]
     },
     "execution_count": 1,
     "metadata": {},
     "output_type": "execute_result"
    }
   ],
   "source": [
    " \"\"\"\n",
    " This is an instructional Jupyter notebook that demonstrates \n",
    " how to download bitcoin price data from the CoinMetrics API. \n",
    "\n",
    " Author: T. From Coding Always & Data Always. \n",
    " Twitter: @Data_Always\n",
    " \n",
    " Last Modified: March 24, 2022\n",
    " \"\"\""
   ]
  },
  {
   "cell_type": "code",
   "execution_count": 2,
   "id": "9b04a498",
   "metadata": {},
   "outputs": [],
   "source": [
    "import numpy as np\n",
    "import pandas as pd\n",
    "from coinmetrics.api_client import CoinMetricsClient\n",
    "\n",
    "client = CoinMetricsClient()"
   ]
  },
  {
   "cell_type": "code",
   "execution_count": 3,
   "id": "c56b22c4",
   "metadata": {},
   "outputs": [],
   "source": [
    "btc_data = client.get_asset_metrics(\n",
    "    assets=['btc'],\n",
    "    metrics=['ReferenceRate'],\n",
    "    start_time='2021-01-01T00:00:00Z',\n",
    "    frequency='1d'\n",
    ")\n",
    "df = btc_data.to_dataframe()"
   ]
  },
  {
   "cell_type": "code",
   "execution_count": 4,
   "id": "36b675b8",
   "metadata": {},
   "outputs": [
    {
     "data": {
      "text/html": [
       "<div>\n",
       "<style scoped>\n",
       "    .dataframe tbody tr th:only-of-type {\n",
       "        vertical-align: middle;\n",
       "    }\n",
       "\n",
       "    .dataframe tbody tr th {\n",
       "        vertical-align: top;\n",
       "    }\n",
       "\n",
       "    .dataframe thead th {\n",
       "        text-align: right;\n",
       "    }\n",
       "</style>\n",
       "<table border=\"1\" class=\"dataframe\">\n",
       "  <thead>\n",
       "    <tr style=\"text-align: right;\">\n",
       "      <th></th>\n",
       "      <th>asset</th>\n",
       "      <th>time</th>\n",
       "      <th>ReferenceRate</th>\n",
       "    </tr>\n",
       "  </thead>\n",
       "  <tbody>\n",
       "    <tr>\n",
       "      <th>443</th>\n",
       "      <td>btc</td>\n",
       "      <td>2022-03-20 00:00:00+00:00</td>\n",
       "      <td>42193.161536</td>\n",
       "    </tr>\n",
       "    <tr>\n",
       "      <th>444</th>\n",
       "      <td>btc</td>\n",
       "      <td>2022-03-21 00:00:00+00:00</td>\n",
       "      <td>41294.723513</td>\n",
       "    </tr>\n",
       "    <tr>\n",
       "      <th>445</th>\n",
       "      <td>btc</td>\n",
       "      <td>2022-03-22 00:00:00+00:00</td>\n",
       "      <td>41064.429648</td>\n",
       "    </tr>\n",
       "    <tr>\n",
       "      <th>446</th>\n",
       "      <td>btc</td>\n",
       "      <td>2022-03-23 00:00:00+00:00</td>\n",
       "      <td>42383.169519</td>\n",
       "    </tr>\n",
       "    <tr>\n",
       "      <th>447</th>\n",
       "      <td>btc</td>\n",
       "      <td>2022-03-24 00:00:00+00:00</td>\n",
       "      <td>42734.200036</td>\n",
       "    </tr>\n",
       "  </tbody>\n",
       "</table>\n",
       "</div>"
      ],
      "text/plain": [
       "    asset                      time  ReferenceRate\n",
       "443   btc 2022-03-20 00:00:00+00:00   42193.161536\n",
       "444   btc 2022-03-21 00:00:00+00:00   41294.723513\n",
       "445   btc 2022-03-22 00:00:00+00:00   41064.429648\n",
       "446   btc 2022-03-23 00:00:00+00:00   42383.169519\n",
       "447   btc 2022-03-24 00:00:00+00:00   42734.200036"
      ]
     },
     "execution_count": 4,
     "metadata": {},
     "output_type": "execute_result"
    }
   ],
   "source": [
    "df.tail()"
   ]
  }
 ],
 "metadata": {
  "kernelspec": {
   "display_name": "Python 3 (ipykernel)",
   "language": "python",
   "name": "python3"
  },
  "language_info": {
   "codemirror_mode": {
    "name": "ipython",
    "version": 3
   },
   "file_extension": ".py",
   "mimetype": "text/x-python",
   "name": "python",
   "nbconvert_exporter": "python",
   "pygments_lexer": "ipython3",
   "version": "3.9.9"
  }
 },
 "nbformat": 4,
 "nbformat_minor": 5
}
